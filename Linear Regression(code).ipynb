{
 "cells": [
  {
   "cell_type": "markdown",
   "metadata": {},
   "source": [
    "# LINEAR REGRESSION"
   ]
  },
  {
   "cell_type": "markdown",
   "metadata": {},
   "source": [
    "## Data Set"
   ]
  },
  {
   "cell_type": "code",
   "execution_count": 1,
   "metadata": {},
   "outputs": [],
   "source": [
    "import numpy as np\n",
    "import pandas as pd\n",
    "import matplotlib.pyplot as plt"
   ]
  },
  {
   "cell_type": "code",
   "execution_count": 31,
   "metadata": {},
   "outputs": [],
   "source": [
    "df=pd.read_csv(\"test.csv\")\n",
    "x=df['x']\n",
    "y=df['y']"
   ]
  },
  {
   "cell_type": "code",
   "execution_count": 32,
   "metadata": {},
   "outputs": [
    {
     "name": "stdout",
     "output_type": "stream",
     "text": [
      "[ 77  21  22  20  36  15  62  95  20   5   4  19  96  62  36  15  65  14\n",
      "  87  69  89  51  89  27  97  58  79  21  93  27  99  31  33  80  28  47\n",
      "  53  69  28  33  91  71  50  76   4  37  70  68  40  35  94  88  52  31\n",
      "  59   0  39  64  69  57  13  72  76  61  82  18  41  50  55  13  46  13\n",
      "  79  53  15  28  81  69  52  84  68  27  56  48  40  39  82 100  59  43\n",
      "  67  38  63  91  60  14  21  87  73]\n"
     ]
    }
   ],
   "source": [
    "print(x.values)\n",
    "#1d arrray, if not ,reshape((-1,))"
   ]
  },
  {
   "cell_type": "code",
   "execution_count": 33,
   "metadata": {},
   "outputs": [
    {
     "data": {
      "text/plain": [
       "array([ 79.77515201,  23.17727887,  25.60926156,  17.85738813,\n",
       "        41.84986439,   9.80523488,  58.87465933,  97.61793701,\n",
       "        18.39512747,   8.74674765,   2.81141583,  17.09537241,\n",
       "        95.14907176,  61.38800663,  40.24701716,  14.82248589,\n",
       "        66.95806869,  16.63507984,  90.65513736,  77.22982636,\n",
       "        92.11906278,  46.91387709,  89.82634442,  21.71380347,\n",
       "        97.41206981,  57.01631363,  78.31056542,  19.1315097 ,\n",
       "        93.03483388,  26.59112396,  97.55155344,  31.43524822,\n",
       "        35.12724777,  78.61042432,  33.07112825,  51.69967172,\n",
       "        53.62235225,  69.46306072,  27.42497237,  36.34644189,\n",
       "        95.06140858,  68.16724757,  50.96155532,  78.04237454,\n",
       "         5.60766487,  36.11334779,  67.2352155 ,  65.01324035,\n",
       "        38.14753871,  34.31141446,  95.28503937,  87.84749912,\n",
       "        54.08170635,  31.93063515,  59.61247085,  -1.04011421,\n",
       "        47.49374765,  62.60089773,  70.9146434 ,  56.14834113,\n",
       "        14.05572877,  68.11367147,  75.59701346,  59.225745  ,\n",
       "        85.45504157,  17.76197116,  38.68888682,  50.96343637,\n",
       "        51.83503872,  17.0761107 ,  46.56141773,  10.34754461,\n",
       "        77.91032969,  50.17008622,  13.25690647,  31.32274932,\n",
       "        73.9308764 ,  74.45114379,  52.01932286,  83.68820499,\n",
       "        70.3698748 ,  23.44479161,  49.83051801,  49.88226593,\n",
       "        41.04525583,  33.37834391,  81.29750133, 105.5918375 ,\n",
       "        56.82457013,  48.67252645,  67.02150613,  38.43076389,\n",
       "        58.61466887,  89.12377509,  60.9105427 ,  13.83959878,\n",
       "        16.89085185,  84.06676818,  70.34969772])"
      ]
     },
     "execution_count": 33,
     "metadata": {},
     "output_type": "execute_result"
    }
   ],
   "source": [
    "y.values"
   ]
  },
  {
   "cell_type": "markdown",
   "metadata": {},
   "source": [
    "# visualisation"
   ]
  },
  {
   "cell_type": "code",
   "execution_count": 35,
   "metadata": {},
   "outputs": [
    {
     "data": {
      "image/png": "[encoded data removed]",
      "text/plain": [
       "<Figure size 432x288 with 1 Axes>"
      ]
     },
     "metadata": {
      "needs_background": "light"
     },
     "output_type": "display_data"
    }
   ],
   "source": [
    "x=(x-x.mean())/x.std()\n",
    "plt.scatter(x,y)\n",
    "plt.show()"
   ]
  },
  {
   "cell_type": "code",
   "execution_count": 41,
   "metadata": {},
   "outputs": [
    {
     "data": {
      "text/plain": [
       "99"
      ]
     },
     "execution_count": 41,
     "metadata": {},
     "output_type": "execute_result"
    }
   ],
   "source": [
    "x.shape[0]"
   ]
  },
  {
   "cell_type": "markdown",
   "metadata": {},
   "source": [
    "# Gradient Descent"
   ]
  },
  {
   "cell_type": "code",
   "execution_count": 42,
   "metadata": {},
   "outputs": [],
   "source": [
    "#theta[0]=intercept; theta[1]=slope\n",
    "\n",
    "def hypothesis(x,theta):\n",
    "    return theta[1]*x + theta[0];"
   ]
  },
  {
   "cell_type": "code",
   "execution_count": 55,
   "metadata": {},
   "outputs": [],
   "source": [
    "def error(x,y,theta):\n",
    "    error=0\n",
    "    for i in range(0,x.shape[0]):\n",
    "        hx=hypothesis(x[i],theta)\n",
    "        error+=(y[i]-hx)**2\n",
    "    return error\n",
    "    "
   ]
  },
  {
   "cell_type": "code",
   "execution_count": 53,
   "metadata": {},
   "outputs": [],
   "source": [
    "#update theta\n",
    "\n",
    "def gradient(x,y,theta):\n",
    "    grad=np.zeros((2,))\n",
    "    for i in range(0,x.shape[0]):\n",
    "        hx=hypothesis(x[i],theta)\n",
    "        grad[0]+=hx-y[i]\n",
    "        grad[1]+=(hx-y[i])*x[i]\n",
    "    return grad"
   ]
  },
  {
   "cell_type": "code",
   "execution_count": 77,
   "metadata": {},
   "outputs": [],
   "source": [
    "def gradientDescent(x,y,learningRate=0.001):\n",
    "    theta=np.array([-1.0,0.0])\n",
    "    max_iteration=100\n",
    "    itr=0\n",
    "    theta_list=[]\n",
    "    error_list=[]\n",
    "    while(itr<max_iteration):\n",
    "        \n",
    "        grad=gradient(x,y,theta)\n",
    "        err=error(x,y,theta)\n",
    "        \n",
    "        error_list.append(err)\n",
    "        theta_list.append(theta)\n",
    "        \n",
    "        theta[0]-=learningRate*grad[0]\n",
    "        theta[1]-=learningRate*grad[1]\n",
    "        \n",
    "        itr+=1\n",
    "    return theta,error_list,theta_list"
   ]
  },
  {
   "cell_type": "code",
   "execution_count": 78,
   "metadata": {
    "scrolled": true
   },
   "outputs": [
    {
     "data": {
      "image/png": "[encoded data removed]",
      "text/plain": [
       "<Figure size 432x288 with 1 Axes>"
      ]
     },
     "metadata": {
      "needs_background": "light"
     },
     "output_type": "display_data"
    }
   ],
   "source": [
    "opt_theta,error_list,theta_list=gradientDescent(x,y)\n",
    "plt.plot(error_list)\n",
    "plt.show()"
   ]
  },
  {
   "cell_type": "code",
   "execution_count": 79,
   "metadata": {},
   "outputs": [
    {
     "name": "stdout",
     "output_type": "stream",
     "text": [
      "[52.08604549 27.14778567]\n"
     ]
    }
   ],
   "source": [
    "print(opt_theta)"
   ]
  },
  {
   "cell_type": "code",
   "execution_count": 92,
   "metadata": {},
   "outputs": [
    {
     "name": "stdout",
     "output_type": "stream",
     "text": [
      "[-2.         -1.55555556 -1.11111111 -0.66666667 -0.22222222  0.22222222\n",
      "  0.66666667  1.11111111  1.55555556  2.        ]\n"
     ]
    }
   ],
   "source": [
    "xtest=np.linspace(-2,2,10)\n",
    "print(xtest)"
   ]
  },
  {
   "cell_type": "code",
   "execution_count": 93,
   "metadata": {},
   "outputs": [
    {
     "data": {
      "text/plain": [
       "array([ -2.20952585,   9.85615667,  21.92183919,  33.98752171,\n",
       "        46.05320423,  58.11888675,  70.18456927,  82.25025179,\n",
       "        94.31593431, 106.38161683])"
      ]
     },
     "execution_count": 93,
     "metadata": {},
     "output_type": "execute_result"
    }
   ],
   "source": [
    "hypothesis(xtest,opt_theta)"
   ]
  },
  {
   "cell_type": "code",
   "execution_count": 100,
   "metadata": {
    "scrolled": true
   },
   "outputs": [
    {
     "data": {
      "image/png": "[encoded data removed]",
      "text/plain": [
       "<Figure size 432x288 with 1 Axes>"
      ]
     },
     "metadata": {
      "needs_background": "light"
     },
     "output_type": "display_data"
    }
   ],
   "source": [
    "plt.scatter(x,y,label='Training Data')\n",
    "plt.plot(xtest, hypothesis(xtest,opt_theta),color='red',label='Prediction')\n",
    "plt.legend()\n",
    "plt.show()"
   ]
  },
  {
   "cell_type": "code",
   "execution_count": null,
   "metadata": {},
   "outputs": [],
   "source": []
  }
 ],
 "metadata": {
  "kernelspec": {
   "display_name": "Python 3",
   "language": "python",
   "name": "python3"
  },
  "language_info": {
   "codemirror_mode": {
    "name": "ipython",
    "version": 3
   },
   "file_extension": ".py",
   "mimetype": "text/x-python",
   "name": "python",
   "nbconvert_exporter": "python",
   "pygments_lexer": "ipython3",
   "version": "3.7.3"
  }
 },
 "nbformat": 4,
 "nbformat_minor": 2
}
