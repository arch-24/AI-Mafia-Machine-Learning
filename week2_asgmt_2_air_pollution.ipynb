{
 "cells": [
  {
   "cell_type": "code",
   "execution_count": 124,
   "metadata": {},
   "outputs": [],
   "source": [
    "import numpy as np\n",
    "import pandas as pd\n",
    "import matplotlib.pyplot as plt\n",
    "import seaborn as sns"
   ]
  },
  {
   "cell_type": "code",
   "execution_count": 125,
   "metadata": {
    "scrolled": true
   },
   "outputs": [
    {
     "data": {
      "text/html": [
       "<div>\n",
       "<style scoped>\n",
       "    .dataframe tbody tr th:only-of-type {\n",
       "        vertical-align: middle;\n",
       "    }\n",
       "\n",
       "    .dataframe tbody tr th {\n",
       "        vertical-align: top;\n",
       "    }\n",
       "\n",
       "    .dataframe thead th {\n",
       "        text-align: right;\n",
       "    }\n",
       "</style>\n",
       "<table border=\"1\" class=\"dataframe\">\n",
       "  <thead>\n",
       "    <tr style=\"text-align: right;\">\n",
       "      <th></th>\n",
       "      <th>feature_1</th>\n",
       "      <th>feature_2</th>\n",
       "      <th>feature_3</th>\n",
       "      <th>feature_4</th>\n",
       "      <th>feature_5</th>\n",
       "      <th>target</th>\n",
       "    </tr>\n",
       "  </thead>\n",
       "  <tbody>\n",
       "    <tr>\n",
       "      <th>0</th>\n",
       "      <td>0.293416</td>\n",
       "      <td>-0.945599</td>\n",
       "      <td>-0.421105</td>\n",
       "      <td>0.406816</td>\n",
       "      <td>0.525662</td>\n",
       "      <td>-82.154667</td>\n",
       "    </tr>\n",
       "    <tr>\n",
       "      <th>1</th>\n",
       "      <td>-0.836084</td>\n",
       "      <td>-0.189228</td>\n",
       "      <td>-0.776403</td>\n",
       "      <td>-1.053831</td>\n",
       "      <td>0.597997</td>\n",
       "      <td>-48.897960</td>\n",
       "    </tr>\n",
       "    <tr>\n",
       "      <th>2</th>\n",
       "      <td>0.236425</td>\n",
       "      <td>0.132836</td>\n",
       "      <td>-0.147723</td>\n",
       "      <td>0.699854</td>\n",
       "      <td>-0.187364</td>\n",
       "      <td>77.270371</td>\n",
       "    </tr>\n",
       "    <tr>\n",
       "      <th>3</th>\n",
       "      <td>0.175312</td>\n",
       "      <td>0.143194</td>\n",
       "      <td>-0.581111</td>\n",
       "      <td>-0.122107</td>\n",
       "      <td>-1.292168</td>\n",
       "      <td>-2.988581</td>\n",
       "    </tr>\n",
       "    <tr>\n",
       "      <th>4</th>\n",
       "      <td>-1.693011</td>\n",
       "      <td>0.542712</td>\n",
       "      <td>-2.798729</td>\n",
       "      <td>-0.686723</td>\n",
       "      <td>1.244077</td>\n",
       "      <td>-37.596722</td>\n",
       "    </tr>\n",
       "  </tbody>\n",
       "</table>\n",
       "</div>"
      ],
      "text/plain": [
       "   feature_1  feature_2  feature_3  feature_4  feature_5     target\n",
       "0   0.293416  -0.945599  -0.421105   0.406816   0.525662 -82.154667\n",
       "1  -0.836084  -0.189228  -0.776403  -1.053831   0.597997 -48.897960\n",
       "2   0.236425   0.132836  -0.147723   0.699854  -0.187364  77.270371\n",
       "3   0.175312   0.143194  -0.581111  -0.122107  -1.292168  -2.988581\n",
       "4  -1.693011   0.542712  -2.798729  -0.686723   1.244077 -37.596722"
      ]
     },
     "execution_count": 125,
     "metadata": {},
     "output_type": "execute_result"
    }
   ],
   "source": [
    "df=pd.read_csv(\"Train.csv\")\n",
    "df.head()"
   ]
  },
  {
   "cell_type": "code",
   "execution_count": 126,
   "metadata": {},
   "outputs": [],
   "source": [
    "dftest=pd.read_csv(\"Test.csv\")"
   ]
  },
  {
   "cell_type": "code",
   "execution_count": 127,
   "metadata": {},
   "outputs": [],
   "source": [
    "x=[]\n",
    "x.append(df['feature_1'].values)\n",
    "x.append(df['feature_2'].values)\n",
    "x.append(df['feature_3'].values)\n",
    "x.append(df['feature_4'].values)\n",
    "x.append(df['feature_5'].values)"
   ]
  },
  {
   "cell_type": "code",
   "execution_count": 129,
   "metadata": {},
   "outputs": [],
   "source": [
    "x_test=[]\n",
    "x_test.append(dftest['feature_1'].values)\n",
    "x_test.append(dftest['feature_2'].values)\n",
    "x_test.append(dftest['feature_3'].values)\n",
    "x_test.append(dftest['feature_4'].values)\n",
    "x_test.append(dftest['feature_5'].values)"
   ]
  },
  {
   "cell_type": "code",
   "execution_count": 132,
   "metadata": {
    "scrolled": true
   },
   "outputs": [],
   "source": [
    "y=df['target'].values"
   ]
  },
  {
   "cell_type": "code",
   "execution_count": 133,
   "metadata": {
    "scrolled": true
   },
   "outputs": [
    {
     "data": {
      "text/html": [
       "<div>\n",
       "<style scoped>\n",
       "    .dataframe tbody tr th:only-of-type {\n",
       "        vertical-align: middle;\n",
       "    }\n",
       "\n",
       "    .dataframe tbody tr th {\n",
       "        vertical-align: top;\n",
       "    }\n",
       "\n",
       "    .dataframe thead th {\n",
       "        text-align: right;\n",
       "    }\n",
       "</style>\n",
       "<table border=\"1\" class=\"dataframe\">\n",
       "  <thead>\n",
       "    <tr style=\"text-align: right;\">\n",
       "      <th></th>\n",
       "      <th>0</th>\n",
       "      <th>1</th>\n",
       "      <th>2</th>\n",
       "      <th>3</th>\n",
       "      <th>4</th>\n",
       "      <th>y</th>\n",
       "    </tr>\n",
       "  </thead>\n",
       "  <tbody>\n",
       "    <tr>\n",
       "      <th>0</th>\n",
       "      <td>0.293416</td>\n",
       "      <td>-0.945599</td>\n",
       "      <td>-0.421105</td>\n",
       "      <td>0.406816</td>\n",
       "      <td>0.525662</td>\n",
       "      <td>-82.154667</td>\n",
       "    </tr>\n",
       "    <tr>\n",
       "      <th>1</th>\n",
       "      <td>-0.836084</td>\n",
       "      <td>-0.189228</td>\n",
       "      <td>-0.776403</td>\n",
       "      <td>-1.053831</td>\n",
       "      <td>0.597997</td>\n",
       "      <td>-48.897960</td>\n",
       "    </tr>\n",
       "    <tr>\n",
       "      <th>2</th>\n",
       "      <td>0.236425</td>\n",
       "      <td>0.132836</td>\n",
       "      <td>-0.147723</td>\n",
       "      <td>0.699854</td>\n",
       "      <td>-0.187364</td>\n",
       "      <td>77.270371</td>\n",
       "    </tr>\n",
       "    <tr>\n",
       "      <th>3</th>\n",
       "      <td>0.175312</td>\n",
       "      <td>0.143194</td>\n",
       "      <td>-0.581111</td>\n",
       "      <td>-0.122107</td>\n",
       "      <td>-1.292168</td>\n",
       "      <td>-2.988581</td>\n",
       "    </tr>\n",
       "    <tr>\n",
       "      <th>4</th>\n",
       "      <td>-1.693011</td>\n",
       "      <td>0.542712</td>\n",
       "      <td>-2.798729</td>\n",
       "      <td>-0.686723</td>\n",
       "      <td>1.244077</td>\n",
       "      <td>-37.596722</td>\n",
       "    </tr>\n",
       "  </tbody>\n",
       "</table>\n",
       "</div>"
      ],
      "text/plain": [
       "          0         1         2         3         4          y\n",
       "0  0.293416 -0.945599 -0.421105  0.406816  0.525662 -82.154667\n",
       "1 -0.836084 -0.189228 -0.776403 -1.053831  0.597997 -48.897960\n",
       "2  0.236425  0.132836 -0.147723  0.699854 -0.187364  77.270371\n",
       "3  0.175312  0.143194 -0.581111 -0.122107 -1.292168  -2.988581\n",
       "4 -1.693011  0.542712 -2.798729 -0.686723  1.244077 -37.596722"
      ]
     },
     "execution_count": 133,
     "metadata": {},
     "output_type": "execute_result"
    }
   ],
   "source": [
    "xtrain=pd.DataFrame(np.matrix.transpose(np.array(x)))\n",
    "xtrain['y']=y\n",
    "xtrain.head()"
   ]
  },
  {
   "cell_type": "code",
   "execution_count": 134,
   "metadata": {
    "scrolled": true
   },
   "outputs": [
    {
     "data": {
      "text/plain": [
       "<seaborn.axisgrid.PairGrid at 0x11ef76b1e48>"
      ]
     },
     "execution_count": 134,
     "metadata": {},
     "output_type": "execute_result"
    },
    {
     "data": {
      "image/png": "[encoded data removed]",
      "text/plain": [
       "<Figure size 900x180 with 5 Axes>"
      ]
     },
     "metadata": {
      "needs_background": "light"
     },
     "output_type": "display_data"
    }
   ],
   "source": [
    "sns.pairplot(xtrain,x_vars=[0,1,2,3,4],y_vars=['y'])"
   ]
  },
  {
   "cell_type": "code",
   "execution_count": 135,
   "metadata": {},
   "outputs": [],
   "source": [
    "def hypothesis(x,i,theta):\n",
    "    hx=theta[0]\n",
    "    for j in range(0,5):\n",
    "        hx+=theta[j+1]*x[j][i]\n",
    "    return hx"
   ]
  },
  {
   "cell_type": "code",
   "execution_count": 136,
   "metadata": {},
   "outputs": [],
   "source": [
    "def error(x,y,theta):\n",
    "    err=0\n",
    "    for i in range(0,x[0].shape[0]):\n",
    "        err+=(y[i]-hypothesis(x,i,theta))**2\n",
    "    return err"
   ]
  },
  {
   "cell_type": "code",
   "execution_count": 137,
   "metadata": {},
   "outputs": [],
   "source": [
    "def gradient(x,y,theta):\n",
    "    grad=np.zeros((6,))\n",
    "    for i in range(0,x[0].shape[0]):\n",
    "        hx=hypothesis(x,i,theta)\n",
    "        grad[0]+=hx-y[i]\n",
    "        for j in range(0,5):\n",
    "            grad[j+1]=(hx-y[i])*x[j][i]\n",
    "    return grad"
   ]
  },
  {
   "cell_type": "code",
   "execution_count": 138,
   "metadata": {},
   "outputs": [],
   "source": [
    "def gradientDescent(x,y,learningRate=0.0001):\n",
    "    theta=np.array([-400.0,0.0,0.0,0.0,0.0,0.0])\n",
    "    itr=400\n",
    "    errorList=[]\n",
    "    thetaList=[]\n",
    "    for i in range(0,itr):\n",
    "        err=error(x,y,theta)\n",
    "        errorList.append(err)\n",
    "        thetaList.append(theta)\n",
    "        grad=gradient(x,y,theta)\n",
    "        for j in range(0,5):\n",
    "            theta[j]-=learningRate*grad[j]\n",
    "    return theta,errorList,thetaList"
   ]
  },
  {
   "cell_type": "code",
   "execution_count": 139,
   "metadata": {
    "scrolled": true
   },
   "outputs": [],
   "source": [
    "opt_theta,errorList,thetaList=gradientDescent(x,y)"
   ]
  },
  {
   "cell_type": "code",
   "execution_count": 140,
   "metadata": {},
   "outputs": [
    {
     "data": {
      "text/plain": [
       "array([ 0.54754803,  7.34402473,  3.31115457,  5.66109763, -1.9046635 ,\n",
       "        0.        ])"
      ]
     },
     "execution_count": 140,
     "metadata": {},
     "output_type": "execute_result"
    }
   ],
   "source": [
    "opt_theta"
   ]
  },
  {
   "cell_type": "code",
   "execution_count": 141,
   "metadata": {
    "scrolled": true
   },
   "outputs": [
    {
     "data": {
      "image/png": "[encoded data removed]",
      "text/plain": [
       "<Figure size 432x288 with 1 Axes>"
      ]
     },
     "metadata": {
      "needs_background": "light"
     },
     "output_type": "display_data"
    }
   ],
   "source": [
    "plt.plot(errorList,color='green')\n",
    "plt.show()"
   ]
  },
  {
   "cell_type": "code",
   "execution_count": 142,
   "metadata": {
    "scrolled": false
   },
   "outputs": [],
   "source": [
    "hx=np.zeros((x_test[0].shape[0],))\n",
    "for i in range(0,x_test[0].shape[0]):\n",
    "    hx[i]+=hypothesis(x_test,i,opt_theta)   "
   ]
  },
  {
   "cell_type": "code",
   "execution_count": 143,
   "metadata": {},
   "outputs": [
    {
     "name": "stdout",
     "output_type": "stream",
     "text": [
      "[ 1.79755788e+01  3.15578665e+00 -2.55174139e+00 -1.13742511e+01\n",
      "  3.69675135e+00  1.44930828e+01 -1.00239852e+01 -7.78878535e+00\n",
      "  5.26295187e+00  1.08682436e+01 -4.14814529e+00 -6.40620486e+00\n",
      " -2.86716237e+00  1.71360481e+01  1.38935817e+01 -4.33166358e+00\n",
      "  1.39856528e+01  1.37690023e+01 -8.48206987e+00  2.20486426e+01\n",
      " -1.85978916e+00 -1.85501566e+00 -6.30909645e+00  1.24509297e+01\n",
      " -1.76575211e+01 -6.50586383e+00  1.27609687e+01 -4.39969125e+00\n",
      "  1.54473679e+01 -5.74841148e+00  6.72704989e+00 -8.82015969e-01\n",
      "  3.24126689e+00  1.76067147e+01 -7.69118688e+00  1.00910182e+01\n",
      "  2.28551870e+01 -2.41280623e+00 -2.45998795e+01  7.30729824e+00\n",
      "  3.47360858e+00 -1.11730556e+01 -1.00425341e+01  7.02654055e+00\n",
      " -1.59787553e+01  3.14774848e+01  7.06459743e-01  4.57625181e+00\n",
      "  1.25545017e+00  3.77191565e+00 -7.39053486e+00 -8.60295642e-02\n",
      "  7.10189066e+00  7.86485616e+00 -8.81552542e+00  2.27953790e+00\n",
      " -7.52797709e+00  7.45714469e+00 -5.27246884e+00 -1.43735809e+01\n",
      "  7.04468111e+00  4.65611996e+00  9.20222425e+00  2.05594677e+01\n",
      "  1.11421160e+01  2.91060683e+00  1.06398808e+01  6.94617090e+00\n",
      "  3.95697935e+00  3.24182269e+00 -7.29740476e+00  1.24528451e+01\n",
      " -4.48705991e+00 -5.65381142e+00  1.61065571e+00  1.73499304e+01\n",
      "  7.80757763e-01 -5.86782273e-01 -1.55808738e+00  1.70810843e+00\n",
      "  3.20069119e+00  1.36971282e+00 -1.79342648e+01 -4.24493574e+00\n",
      "  1.11899750e+01  8.01759733e+00 -8.66146102e+00  2.70786081e+00\n",
      " -1.31545927e+01 -5.01665433e+00 -2.84087982e+00  1.85111700e+01\n",
      " -1.39738505e+01 -5.22499104e+00 -5.07551888e+00  1.75448675e+00\n",
      " -1.68761857e+00 -8.24591282e+00 -1.56369123e-01  6.63161765e+00\n",
      "  2.16974015e+00 -2.75187372e+00 -2.93270816e+00 -1.27659712e+01\n",
      " -1.21075601e-01  1.46493973e+01  3.39525828e+00  8.48836580e+00\n",
      " -8.25061172e+00 -1.97335138e+00 -1.71856574e+01 -4.58773158e+00\n",
      "  1.47557579e+01 -6.08614132e+00  2.62647775e+00 -1.13285388e+00\n",
      "  1.28667190e+01  1.73735066e+01 -6.55196920e+00 -5.55803626e+00\n",
      " -6.83332048e+00  2.71964934e+00  1.49681286e+01 -1.65342702e+01\n",
      " -1.45456747e+01 -1.37052127e+00 -1.19188207e+01 -1.17841142e+01\n",
      "  8.14721964e+00  3.02715059e+00 -1.48017835e+00  1.01981047e+01\n",
      " -1.23373562e+01  9.22398579e+00  6.28008505e+00  1.55445946e+01\n",
      " -1.25248657e+00  2.72729101e+01  1.14575212e+01 -9.38399439e+00\n",
      " -6.17511432e+00 -1.39449203e+01  2.05829612e+01  5.60812819e+00\n",
      " -8.92074518e+00 -1.52790891e+01 -8.71659613e+00  1.67858747e+00\n",
      "  1.98764341e+00  4.54335351e+00  1.02259561e+01 -5.43413536e+00\n",
      "  5.95279783e+00 -2.72298942e+01 -5.38523597e+00  2.16171823e-01\n",
      "  1.17588843e+01  1.29921165e+00  5.48486524e+00  3.96470435e+00\n",
      " -2.59645526e+00  7.61362843e+00  2.37390190e+01  1.30161993e+01\n",
      "  9.03621225e+00 -2.71306926e+00 -5.77639780e+00 -2.56673252e+00\n",
      "  1.01761841e+01  1.17648519e+01  2.76375691e+00  1.09020170e+01\n",
      "  8.74021236e+00 -3.99678265e+00  1.65556427e+01 -1.19635732e+01\n",
      " -6.52575938e+00 -1.92432781e+01 -5.93808095e+00 -1.51470825e+01\n",
      " -1.36841797e+01 -1.30918899e+01 -8.27617802e+00  1.86707708e+01\n",
      " -3.99801660e+00 -2.18085980e+00 -1.81419499e+01 -1.63212911e+01\n",
      " -8.24094307e+00  9.64311010e+00  1.65741268e+00  7.67629313e+00\n",
      "  1.32579441e+01 -4.47316860e+00 -9.30314926e+00  1.34244054e+01\n",
      " -1.85680308e+00 -8.32564089e+00  1.48434692e+01  2.87438480e+00\n",
      "  1.46750221e+01 -4.48088250e+00  1.29870059e-01  1.23664085e+01\n",
      "  1.96393727e+01  1.59074938e+01 -1.44342692e+01  6.90251245e+00\n",
      " -8.94070396e+00 -8.52846069e+00  6.38789383e-01 -7.60026048e+00\n",
      " -5.76693280e+00  1.31516183e+01  6.53300548e+00  3.40474737e+00\n",
      " -1.56980250e+00 -7.81839236e+00  1.27694212e+01  1.35183475e+01\n",
      "  6.39992045e+00 -3.88333437e+00  2.52385688e+01  4.51516210e+00\n",
      "  1.22888560e+01 -4.34479934e+00  5.81208389e+00  5.86930050e+00\n",
      "  1.02105309e+01 -1.56978433e+01 -8.63813533e+00  2.98537571e+00\n",
      " -1.81606625e+01 -1.19311113e+01  8.89480567e-01  4.85491718e+00\n",
      " -2.50926162e+01  1.33723346e+01  6.92683489e+00  2.97724048e+01\n",
      " -6.81009980e+00  3.44413969e+00 -2.43034156e+00 -2.73325226e+00\n",
      " -4.90883052e+00  1.20035032e+00 -5.84248024e+00 -1.54813243e+01\n",
      "  5.20515512e+00 -1.71962203e+01 -1.18968085e+01  6.35492420e+00\n",
      "  1.55241936e+00 -2.34818027e+01 -5.06788073e+00  1.60823724e+01\n",
      " -3.82699911e+00  9.86915103e+00 -4.07770012e+00  8.23297113e+00\n",
      " -2.57165555e+00 -5.25998109e+00  1.30544479e+00 -5.28072797e+00\n",
      " -1.32682705e+01  4.75868236e+00  2.75591742e+00  5.43076081e+00\n",
      " -5.09592267e+00 -1.47900560e+01 -3.38170254e+00  1.02453892e+00\n",
      " -1.33866398e+01 -3.90254664e-01  9.38681759e+00  5.57331293e+00\n",
      " -6.42938534e+00  1.17737749e+01  1.21996228e+01 -8.48201468e+00\n",
      "  6.81234695e+00 -1.09461991e+01  8.65915583e+00 -2.55068655e+01\n",
      " -5.73290579e+00  1.60093552e+01 -1.60393531e+01 -2.13967403e+01\n",
      "  1.14135412e+01  4.18903698e+00  8.90376189e+00 -6.78128476e+00\n",
      "  1.18289081e+01  1.76275286e+00 -1.54401905e+00 -1.21205335e+01\n",
      " -2.61669286e+00 -8.46635648e+00 -4.26765560e+00 -1.45646024e+01\n",
      "  1.23955691e+01 -2.69383418e+00 -4.20374400e+00 -9.51391400e+00\n",
      "  1.40233010e+01  2.85874152e+00 -2.35289250e+00 -1.57758530e+01\n",
      "  2.15370031e+00 -1.21423344e+01  3.87903659e+01  3.01487856e+01\n",
      "  1.11330210e+01  4.47587287e+00  1.01790009e+01 -1.31158408e+00\n",
      "  1.96021194e+01 -1.67489408e+01  1.24809891e+00 -3.83883137e+00\n",
      " -4.93404752e+00 -1.51161265e+01  4.70574596e-01 -4.02491095e+00\n",
      " -1.27916930e+01  3.18731240e+00 -7.09739382e-02  8.31125280e+00\n",
      "  1.32076651e+01 -9.91745094e+00  1.20206949e+01  8.55671541e+00\n",
      "  1.17866622e+01  4.78273285e+00  1.03154256e+01 -1.19235010e+01\n",
      " -5.53734362e+00 -4.79956852e+00  5.09036441e+00  4.69640301e+00\n",
      " -6.26395634e+00 -2.72195152e+00 -4.44153429e+00 -4.19310517e+00\n",
      " -2.63155108e+00  8.44545876e+00 -1.03880573e+00 -6.93412164e+00\n",
      " -1.04523996e+01 -9.16143655e+00 -1.80692230e+01  2.74190800e+00\n",
      "  1.03658104e+01 -3.67057860e+00 -2.56761012e+01 -1.95503237e+00\n",
      " -1.05938604e+01  1.03047429e+01  7.38505983e+00  9.20263557e+00\n",
      "  2.16005507e+00  8.86801507e+00 -1.44102006e+00  8.03787922e+00\n",
      "  4.67054415e-01 -7.49107768e+00 -1.64720164e+01 -4.04199468e+00\n",
      " -1.02403097e+00 -3.78305279e+00  8.50837258e+00 -1.16447741e+01\n",
      "  6.33635845e+00 -7.10067395e+00 -6.90167889e+00 -1.60224066e+01\n",
      "  9.78958934e+00 -1.47702592e+00 -9.62701562e+00 -8.95370003e+00\n",
      "  1.46054362e+01 -1.67472451e+01 -1.60144417e+01  3.71814825e+00\n",
      "  1.06799647e+01  1.23449877e-02  1.23241837e+01  5.99621915e+00\n",
      "  6.13465854e+00 -9.40938917e+00  5.81212610e+00  1.06079140e+01\n",
      "  1.22170001e+01 -1.07049967e+00 -8.13893685e+00 -1.33203638e+01\n",
      " -7.19946266e+00  7.66747060e+00 -9.76851132e+00 -1.55903669e+00]\n"
     ]
    }
   ],
   "source": [
    "print(hx)"
   ]
  }
 ],
 "metadata": {
  "kernelspec": {
   "display_name": "Python 3",
   "language": "python",
   "name": "python3"
  },
  "language_info": {
   "codemirror_mode": {
    "name": "ipython",
    "version": 3
   },
   "file_extension": ".py",
   "mimetype": "text/x-python",
   "name": "python",
   "nbconvert_exporter": "python",
   "pygments_lexer": "ipython3",
   "version": "3.7.3"
  }
 },
 "nbformat": 4,
 "nbformat_minor": 2
}
